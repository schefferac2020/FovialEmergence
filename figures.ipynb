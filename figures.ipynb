{
 "cells": [
  {
   "cell_type": "markdown",
   "metadata": {},
   "source": [
    "# Make the Figures For the Report"
   ]
  },
  {
   "cell_type": "code",
   "execution_count": 1,
   "metadata": {},
   "outputs": [
    {
     "name": "stdout",
     "output_type": "stream",
     "text": [
      "CUDA is available. Using GPU: NVIDIA GeForce RTX 3080\n",
      "cuda:1\n",
      "|===========================================================================|\n",
      "|                  PyTorch CUDA memory summary, device ID 0                 |\n",
      "|---------------------------------------------------------------------------|\n",
      "|            CUDA OOMs: 0            |        cudaMalloc retries: 0         |\n",
      "|===========================================================================|\n",
      "|        Metric         | Cur Usage  | Peak Usage | Tot Alloc  | Tot Freed  |\n",
      "|---------------------------------------------------------------------------|\n",
      "| Allocated memory      |      0 B   |      0 B   |      0 B   |      0 B   |\n",
      "|       from large pool |      0 B   |      0 B   |      0 B   |      0 B   |\n",
      "|       from small pool |      0 B   |      0 B   |      0 B   |      0 B   |\n",
      "|---------------------------------------------------------------------------|\n",
      "| Active memory         |      0 B   |      0 B   |      0 B   |      0 B   |\n",
      "|       from large pool |      0 B   |      0 B   |      0 B   |      0 B   |\n",
      "|       from small pool |      0 B   |      0 B   |      0 B   |      0 B   |\n",
      "|---------------------------------------------------------------------------|\n",
      "| Requested memory      |      0 B   |      0 B   |      0 B   |      0 B   |\n",
      "|       from large pool |      0 B   |      0 B   |      0 B   |      0 B   |\n",
      "|       from small pool |      0 B   |      0 B   |      0 B   |      0 B   |\n",
      "|---------------------------------------------------------------------------|\n",
      "| GPU reserved memory   |      0 B   |      0 B   |      0 B   |      0 B   |\n",
      "|       from large pool |      0 B   |      0 B   |      0 B   |      0 B   |\n",
      "|       from small pool |      0 B   |      0 B   |      0 B   |      0 B   |\n",
      "|---------------------------------------------------------------------------|\n",
      "| Non-releasable memory |      0 B   |      0 B   |      0 B   |      0 B   |\n",
      "|       from large pool |      0 B   |      0 B   |      0 B   |      0 B   |\n",
      "|       from small pool |      0 B   |      0 B   |      0 B   |      0 B   |\n",
      "|---------------------------------------------------------------------------|\n",
      "| Allocations           |       0    |       0    |       0    |       0    |\n",
      "|       from large pool |       0    |       0    |       0    |       0    |\n",
      "|       from small pool |       0    |       0    |       0    |       0    |\n",
      "|---------------------------------------------------------------------------|\n",
      "| Active allocs         |       0    |       0    |       0    |       0    |\n",
      "|       from large pool |       0    |       0    |       0    |       0    |\n",
      "|       from small pool |       0    |       0    |       0    |       0    |\n",
      "|---------------------------------------------------------------------------|\n",
      "| GPU reserved segments |       0    |       0    |       0    |       0    |\n",
      "|       from large pool |       0    |       0    |       0    |       0    |\n",
      "|       from small pool |       0    |       0    |       0    |       0    |\n",
      "|---------------------------------------------------------------------------|\n",
      "| Non-releasable allocs |       0    |       0    |       0    |       0    |\n",
      "|       from large pool |       0    |       0    |       0    |       0    |\n",
      "|       from small pool |       0    |       0    |       0    |       0    |\n",
      "|---------------------------------------------------------------------------|\n",
      "| Oversize allocations  |       0    |       0    |       0    |       0    |\n",
      "|---------------------------------------------------------------------------|\n",
      "| Oversize GPU segments |       0    |       0    |       0    |       0    |\n",
      "|===========================================================================|\n",
      "\n"
     ]
    }
   ],
   "source": [
    "import torch\n",
    "\n",
    "# Check if CUDA is available and if PyTorch is using GPU\n",
    "if torch.cuda.is_available():\n",
    "    print(f\"CUDA is available. Using GPU: {torch.cuda.get_device_name(0)}\")\n",
    "else:\n",
    "    print(\"CUDA is not available. Using CPU.\")\n",
    "    \n",
    "device = torch.device(\"cuda:1\" if torch.cuda.is_available() else \"cpu\")\n",
    "# device = torch.device(\"cpu\")\n",
    "print(device)\n",
    "\n",
    "if torch.cuda.is_available():\n",
    "    torch.cuda.empty_cache()\n",
    "    print(torch.cuda.memory_summary(device=0, abbreviated=False))\n",
    "\n"
   ]
  },
  {
   "cell_type": "markdown",
   "metadata": {},
   "source": [
    "## Get Plot of eccentricity"
   ]
  },
  {
   "cell_type": "code",
   "execution_count": 2,
   "metadata": {},
   "outputs": [
    {
     "name": "stderr",
     "output_type": "stream",
     "text": [
      "/tmp/ipykernel_67210/3607179454.py:20: FutureWarning: You are using `torch.load` with `weights_only=False` (the current default value), which uses the default pickle module implicitly. It is possible to construct malicious pickle data which will execute arbitrary code during unpickling (See https://github.com/pytorch/pytorch/blob/main/SECURITY.md#untrusted-models for more details). In a future release, the default value for `weights_only` will be flipped to `True`. This limits the functions that could be executed during unpickling. Arbitrary objects will no longer be allowed to be loaded via this mode unless they are explicitly allowlisted by the user via `torch.serialization.add_safe_globals`. We recommend you start setting `weights_only=True` for any use case where you don't have full control of the loaded file. Please open an issue on GitHub for any issues related to this experimental feature.\n",
      "  checkpoint = torch.load(checkpoint_path)\n"
     ]
    },
    {
     "data": {
      "text/plain": [
       "<All keys matched successfully>"
      ]
     },
     "execution_count": 2,
     "metadata": {},
     "output_type": "execute_result"
    }
   ],
   "source": [
    "from rnn_model import MNISTRNN\n",
    "\n",
    "checkpoint_path = \"models/2024-12-03_16-53-55/checkpoint_16.pth\"\n",
    "\n",
    "# Hyperparameters\n",
    "image_size = 100\n",
    "hidden_size = 512\n",
    "num_layers = 2\n",
    "num_classes = 10\n",
    "batch_size = 64\n",
    "learning_rate = 0.0002\n",
    "num_epochs = 100\n",
    "num_steps = 3  # RNN steps per image\n",
    "num_kernels = 12*12\n",
    "\n",
    "model = MNISTRNN(image_size, hidden_size, num_layers, num_classes, num_kernels, device)\n",
    "model.to(device)\n",
    "\n",
    "# Load the checkpoint\n",
    "checkpoint = torch.load(checkpoint_path)\n",
    "\n",
    "# Load the state dictionary into the model\n",
    "model.load_state_dict(checkpoint['model_state_dict'])"
   ]
  },
  {
   "cell_type": "code",
   "execution_count": 3,
   "metadata": {},
   "outputs": [
    {
     "name": "stdout",
     "output_type": "stream",
     "text": [
      "torch.Size([144]) torch.Size([144, 2])\n",
      "Parameter containing:\n",
      "tensor([[-0.6518, -0.6089],\n",
      "        [-0.6364, -0.4645],\n",
      "        [-0.5797, -0.3360],\n",
      "        [-0.6825, -0.2849],\n",
      "        [-0.6225, -0.1421],\n",
      "        [-0.6707, -0.0251],\n",
      "        [-0.5782,  0.0627],\n",
      "        [-0.6966,  0.1489],\n",
      "        [-0.6088,  0.2323],\n",
      "        [-0.6299,  0.3512],\n",
      "        [-0.6553,  0.4947],\n",
      "        [-0.6226,  0.6165],\n",
      "        [-0.4956, -0.6277],\n",
      "        [-0.4805, -0.4649],\n",
      "        [-0.4453, -0.3453],\n",
      "        [-0.5157, -0.2229],\n",
      "        [-0.4366, -0.1341],\n",
      "        [-0.4977, -0.0586],\n",
      "        [-0.4614,  0.0364],\n",
      "        [-0.4544,  0.1372],\n",
      "        [-0.4744,  0.2568],\n",
      "        [-0.4498,  0.3569],\n",
      "        [-0.4816,  0.4719],\n",
      "        [-0.4401,  0.5921],\n",
      "        [-0.3323, -0.6629],\n",
      "        [-0.3658, -0.4858],\n",
      "        [-0.3159, -0.3576],\n",
      "        [-0.3660, -0.2612],\n",
      "        [-0.3319, -0.1565],\n",
      "        [-0.3324, -0.0410],\n",
      "        [-0.3316,  0.0520],\n",
      "        [-0.3455,  0.1383],\n",
      "        [-0.3178,  0.2301],\n",
      "        [-0.3340,  0.3726],\n",
      "        [-0.3017,  0.5132],\n",
      "        [-0.2888,  0.6980],\n",
      "        [-0.2360, -0.5658],\n",
      "        [-0.2435, -0.4747],\n",
      "        [-0.2178, -0.3726],\n",
      "        [-0.2458, -0.2476],\n",
      "        [-0.2336, -0.1464],\n",
      "        [-0.2109, -0.0493],\n",
      "        [-0.1997,  0.0313],\n",
      "        [-0.2076,  0.1097],\n",
      "        [-0.2060,  0.2027],\n",
      "        [-0.2132,  0.2920],\n",
      "        [-0.2145,  0.4026],\n",
      "        [-0.1551,  0.5230],\n",
      "        [-0.1508, -0.6847],\n",
      "        [-0.1464, -0.4696],\n",
      "        [-0.1325, -0.3598],\n",
      "        [-0.1446, -0.2450],\n",
      "        [-0.1224, -0.1354],\n",
      "        [-0.1141, -0.0540],\n",
      "        [-0.1125,  0.0333],\n",
      "        [-0.1063,  0.1181],\n",
      "        [-0.1172,  0.1979],\n",
      "        [-0.1236,  0.2783],\n",
      "        [-0.1178,  0.4156],\n",
      "        [-0.0925,  0.6220],\n",
      "        [-0.0603, -0.5840],\n",
      "        [-0.0412, -0.4413],\n",
      "        [-0.0463, -0.3516],\n",
      "        [-0.0472, -0.2403],\n",
      "        [-0.0424, -0.1173],\n",
      "        [-0.0407, -0.0489],\n",
      "        [-0.0277,  0.0319],\n",
      "        [-0.0196,  0.1143],\n",
      "        [-0.0283,  0.1779],\n",
      "        [-0.0532,  0.3022],\n",
      "        [-0.0471,  0.3656],\n",
      "        [-0.0109,  0.4949],\n",
      "        [ 0.0532, -0.6572],\n",
      "        [ 0.0392, -0.5132],\n",
      "        [ 0.0541, -0.3591],\n",
      "        [ 0.0423, -0.2247],\n",
      "        [ 0.0357, -0.1124],\n",
      "        [ 0.0406, -0.0530],\n",
      "        [ 0.0415,  0.0359],\n",
      "        [ 0.0381,  0.1228],\n",
      "        [ 0.0377,  0.2059],\n",
      "        [ 0.0259,  0.3105],\n",
      "        [ 0.0338,  0.4006],\n",
      "        [ 0.0620,  0.5964],\n",
      "        [ 0.1549, -0.5609],\n",
      "        [ 0.1280, -0.4603],\n",
      "        [ 0.1489, -0.3495],\n",
      "        [ 0.1375, -0.2269],\n",
      "        [ 0.1257, -0.1239],\n",
      "        [ 0.1211, -0.0423],\n",
      "        [ 0.1031,  0.0199],\n",
      "        [ 0.1103,  0.0902],\n",
      "        [ 0.0991,  0.1748],\n",
      "        [ 0.0955,  0.2758],\n",
      "        [ 0.1170,  0.3968],\n",
      "        [ 0.1518,  0.5060],\n",
      "        [ 0.2548, -0.6975],\n",
      "        [ 0.2247, -0.4821],\n",
      "        [ 0.2487, -0.3539],\n",
      "        [ 0.2308, -0.2191],\n",
      "        [ 0.2065, -0.1249],\n",
      "        [ 0.2151, -0.0521],\n",
      "        [ 0.1910,  0.0373],\n",
      "        [ 0.1965,  0.1036],\n",
      "        [ 0.1873,  0.1990],\n",
      "        [ 0.1783,  0.3145],\n",
      "        [ 0.2252,  0.4098],\n",
      "        [ 0.2203,  0.6640],\n",
      "        [ 0.3272, -0.5709],\n",
      "        [ 0.3700, -0.4485],\n",
      "        [ 0.3309, -0.3471],\n",
      "        [ 0.3404, -0.2417],\n",
      "        [ 0.3405, -0.1349],\n",
      "        [ 0.3111, -0.0406],\n",
      "        [ 0.2915,  0.0434],\n",
      "        [ 0.3095,  0.1052],\n",
      "        [ 0.2922,  0.1745],\n",
      "        [ 0.2867,  0.2941],\n",
      "        [ 0.3242,  0.3889],\n",
      "        [ 0.3057,  0.5232],\n",
      "        [ 0.4663, -0.6855],\n",
      "        [ 0.4768, -0.4818],\n",
      "        [ 0.4927, -0.3711],\n",
      "        [ 0.4825, -0.2644],\n",
      "        [ 0.4392, -0.1231],\n",
      "        [ 0.4845, -0.0291],\n",
      "        [ 0.3782,  0.0471],\n",
      "        [ 0.4802,  0.1251],\n",
      "        [ 0.3955,  0.2300],\n",
      "        [ 0.4626,  0.3632],\n",
      "        [ 0.4926,  0.4982],\n",
      "        [ 0.4310,  0.6472],\n",
      "        [ 0.6100, -0.6265],\n",
      "        [ 0.6748, -0.4950],\n",
      "        [ 0.6308, -0.3494],\n",
      "        [ 0.6989, -0.2659],\n",
      "        [ 0.5930, -0.1548],\n",
      "        [ 0.6869, -0.0610],\n",
      "        [ 0.6028,  0.0401],\n",
      "        [ 0.7093,  0.1648],\n",
      "        [ 0.5556,  0.2427],\n",
      "        [ 0.6376,  0.3614],\n",
      "        [ 0.6654,  0.5104],\n",
      "        [ 0.6068,  0.6519]], device='cuda:1', requires_grad=True)\n"
     ]
    }
   ],
   "source": [
    "mus = model.eyes.mu\n",
    "sigmas = model.eyes.sigma\n",
    "print(sigmas.shape, mus.shape)\n",
    "print(mus)"
   ]
  },
  {
   "cell_type": "code",
   "execution_count": 5,
   "metadata": {},
   "outputs": [
    {
     "name": "stdout",
     "output_type": "stream",
     "text": [
      "[2.3951716 2.1814513 2.1610906 2.2399979 2.1982362 2.154414  2.1668925\n",
      " 2.2436788 2.1735165 2.2066188 2.239594  2.4307072 2.3055408 2.1179652\n",
      " 2.0731435 2.0848699 2.0674734 2.1526601 2.059047  2.1277523 2.1272984\n",
      " 2.1764874 2.2234344 2.2808084 2.244536  2.068168  2.065134  2.0382586\n",
      " 2.0445192 2.024106  2.1111124 2.0521946 2.0839753 2.0487154 2.1781018\n",
      " 2.3881779 2.0748272 2.0796914 2.0308065 2.0374706 2.0390959 1.9540775\n",
      " 2.0099561 2.0122843 1.8676234 1.9486663 2.0460567 2.1591437 2.21858\n",
      " 2.0568075 2.0347428 2.0962515 2.0437317 1.9168013 1.9398441 1.9114823\n",
      " 1.8505274 1.9542572 2.0976727 2.3162603 2.1061049 2.1032786 2.022003\n",
      " 2.0752976 2.027459  1.9567256 1.8905122 1.7879257 1.7659166 1.8950341\n",
      " 2.007338  2.224484  2.201745  2.08646   2.0532553 2.008152  1.9955897\n",
      " 1.893492  1.880136  1.6631366 1.8314282 1.8541347 2.0573285 2.270889\n",
      " 2.136094  2.0597794 2.0528655 2.03949   1.998954  1.951601  1.8755158\n",
      " 1.8150487 1.8347628 1.9807627 2.0254128 2.2397597 2.261433  2.045169\n",
      " 1.9952435 2.0372071 2.0843897 1.9146167 1.9035392 1.9253281 1.9963046\n",
      " 2.0180433 2.0599458 2.426451  2.107573  2.0703795 2.040106  2.0621543\n",
      " 2.0931058 1.974543  1.9858415 2.0030758 1.9534711 2.0594308 2.107934\n",
      " 2.213671  2.3013554 2.1510491 2.1228025 2.1189213 2.1028733 2.0644097\n",
      " 1.9891392 2.0959716 2.0993316 2.1773698 2.2761922 2.4240792 2.364808\n",
      " 2.2514555 2.2455943 2.2314646 2.2194653 2.2041998 2.2733157 2.299453\n",
      " 2.3057857 2.2230284 2.3413203 2.458295 ]\n"
     ]
    },
    {
     "data": {
      "image/png": "[encoded data removed]",
      "text/plain": [
       "<Figure size 640x480 with 1 Axes>"
      ]
     },
     "metadata": {},
     "output_type": "display_data"
    }
   ],
   "source": [
    "import matplotlib.pyplot as plt\n",
    "mus = model.eyes.mu\n",
    "sigmas = model.eyes.sigma\n",
    "distances = torch.norm(mus, dim=1)\n",
    "\n",
    "distances = distances.detach().cpu().numpy()\n",
    "sigmas = sigmas.detach().cpu().numpy() \n",
    "print(sigmas)\n",
    "sigmas = sigmas/50\n",
    "\n",
    "# Plot distances (x-axis) vs sigmas (y-axis)\n",
    "plt.scatter(distances, sigmas, alpha=0.7)\n",
    "plt.xlabel('Distance from Center (Eccentricity)')\n",
    "plt.ylabel('Kernel Standard Deviation')\n",
    "# plt.title('Distance from Center (Eccentricity)')\n",
    "plt.grid(True)\n",
    "plt.show()\n"
   ]
  },
  {
   "cell_type": "code",
   "execution_count": null,
   "metadata": {},
   "outputs": [],
   "source": []
  },
  {
   "cell_type": "markdown",
   "metadata": {},
   "source": [
    "## Get The Test Accuracy, Precision, Recall, Model Parameters Size, "
   ]
  },
  {
   "cell_type": "code",
   "execution_count": 8,
   "metadata": {},
   "outputs": [
    {
     "name": "stderr",
     "output_type": "stream",
     "text": [
      "/tmp/ipykernel_65526/1664891468.py:21: FutureWarning: You are using `torch.load` with `weights_only=False` (the current default value), which uses the default pickle module implicitly. It is possible to construct malicious pickle data which will execute arbitrary code during unpickling (See https://github.com/pytorch/pytorch/blob/main/SECURITY.md#untrusted-models for more details). In a future release, the default value for `weights_only` will be flipped to `True`. This limits the functions that could be executed during unpickling. Arbitrary objects will no longer be allowed to be loaded via this mode unless they are explicitly allowlisted by the user via `torch.serialization.add_safe_globals`. We recommend you start setting `weights_only=True` for any use case where you don't have full control of the loaded file. Please open an issue on GitHub for any issues related to this experimental feature.\n",
      "  checkpoint = torch.load(checkpoint_path)\n"
     ]
    },
    {
     "data": {
      "text/plain": [
       "<All keys matched successfully>"
      ]
     },
     "execution_count": 8,
     "metadata": {},
     "output_type": "execute_result"
    }
   ],
   "source": [
    "import torch\n",
    "from rnn_model import MNISTRNN\n",
    "\n",
    "checkpoint_path = \"models/2024-12-03_16-53-55/checkpoint_39.pth\" #31 is 94.13%\n",
    "\n",
    "# Hyperparameters\n",
    "image_size = 100\n",
    "hidden_size = 512\n",
    "num_layers = 2\n",
    "num_classes = 10\n",
    "batch_size = 64\n",
    "learning_rate = 0.0002\n",
    "num_epochs = 100\n",
    "num_steps = 3  # RNN steps per image\n",
    "num_kernels = 12*12\n",
    "\n",
    "model = MNISTRNN(image_size, hidden_size, num_layers, num_classes, num_kernels, device)\n",
    "model.to(device)\n",
    "\n",
    "# Load the checkpoint\n",
    "checkpoint = torch.load(checkpoint_path)\n",
    "\n",
    "# Load the state dictionary into the model\n",
    "model.load_state_dict(checkpoint['model_state_dict'])"
   ]
  },
  {
   "cell_type": "code",
   "execution_count": 3,
   "metadata": {},
   "outputs": [
    {
     "name": "stdout",
     "output_type": "stream",
     "text": [
      "Accuracy of the model on the test images: 91.93%\n"
     ]
    }
   ],
   "source": [
    "# Evaluate on the test set\n",
    "from dataloaders import get_dataloaders\n",
    "train_loader, test_loader = get_dataloaders()\n",
    "\n",
    "model.eval()\n",
    "with torch.no_grad():\n",
    "    correct = 0\n",
    "    total = 0\n",
    "    for images, labels in test_loader:\n",
    "        images = images.to(device)\n",
    "        labels = labels.to(device)\n",
    "        \n",
    "        batch_size = images.size(0)\n",
    "        h0 = torch.zeros(num_layers, batch_size, hidden_size).to(images.device)\n",
    "        next_actions = torch.zeros((batch_size, 3), device=images.device)\n",
    "        \n",
    "        for step in range(num_steps):\n",
    "            class_pred, action_pred, h0, sensor_readings = model(images, next_actions, h0)\n",
    "            \n",
    "            next_actions = action_pred\n",
    "\n",
    "        # print(class_pred.data)\n",
    "        _, predicted = torch.max(class_pred.data, 1)\n",
    "        total += labels.size(0)\n",
    "        correct += (predicted == labels).sum().item()\n",
    "        \n",
    "        # if total > 10000:\n",
    "        #     break\n",
    "        \n",
    "\n",
    "    print(f'Accuracy of the model on the test images: {100 * correct / total:.2f}%')"
   ]
  },
  {
   "cell_type": "code",
   "execution_count": 9,
   "metadata": {},
   "outputs": [
    {
     "name": "stdout",
     "output_type": "stream",
     "text": [
      "Accuracy of the model on the test images: 91.93%\n",
      "Precision: 0.92\n",
      "Recall: 0.92\n",
      "F1 Score: 0.92\n"
     ]
    }
   ],
   "source": [
    "from sklearn.metrics import precision_score, recall_score, f1_score\n",
    "\n",
    "# Assuming get_dataloaders() provides train and test loaders\n",
    "train_loader, test_loader = get_dataloaders()\n",
    "\n",
    "model.eval()\n",
    "all_labels = []\n",
    "all_predictions = []\n",
    "\n",
    "with torch.no_grad():\n",
    "    correct = 0\n",
    "    total = 0\n",
    "    \n",
    "    for images, labels in test_loader:\n",
    "        images = images.to(device)\n",
    "        labels = labels.to(device)\n",
    "        \n",
    "        batch_size = images.size(0)\n",
    "        h0 = torch.zeros(num_layers, batch_size, hidden_size).to(images.device)\n",
    "        next_actions = torch.zeros((batch_size, 3), device=images.device)\n",
    "        \n",
    "        for step in range(num_steps):\n",
    "            class_pred, action_pred, h0, sensor_readings = model(images, next_actions, h0)\n",
    "            next_actions = action_pred\n",
    "\n",
    "        _, predicted = torch.max(class_pred.data, 1)\n",
    "        \n",
    "        # Append for metric calculations\n",
    "        all_labels.extend(labels.cpu().numpy())\n",
    "        all_predictions.extend(predicted.cpu().numpy())\n",
    "        \n",
    "        # Accuracy calculation\n",
    "        total += labels.size(0)\n",
    "        correct += (predicted == labels).sum().item()\n",
    "\n",
    "# Calculate accuracy\n",
    "accuracy = 100 * correct / total\n",
    "print(f'Accuracy of the model on the test images: {accuracy:.2f}%')\n",
    "\n",
    "# Calculate precision, recall, and F1-score\n",
    "precision = precision_score(all_labels, all_predictions, average='weighted')\n",
    "recall = recall_score(all_labels, all_predictions, average='weighted')\n",
    "f1 = f1_score(all_labels, all_predictions, average='weighted')\n",
    "\n",
    "print(f'Precision: {precision:.2f}')\n",
    "print(f'Recall: {recall:.2f}')\n",
    "print(f'F1 Score: {f1:.2f}')"
   ]
  },
  {
   "cell_type": "code",
   "execution_count": 10,
   "metadata": {},
   "outputs": [
    {
     "name": "stdout",
     "output_type": "stream",
     "text": [
      "Number of trainable parameters: 869,309\n"
     ]
    }
   ],
   "source": [
    "# Count the number of parameters\n",
    "def count_parameters(model):\n",
    "    return sum(p.numel() for p in model.parameters() if p.requires_grad)\n",
    "\n",
    "print(f\"Number of trainable parameters: {count_parameters(model):,}\")"
   ]
  },
  {
   "cell_type": "code",
   "execution_count": null,
   "metadata": {},
   "outputs": [],
   "source": []
  },
  {
   "cell_type": "markdown",
   "metadata": {},
   "source": [
    "## Do a few Rollouts"
   ]
  },
  {
   "cell_type": "code",
   "execution_count": 12,
   "metadata": {},
   "outputs": [],
   "source": [
    "from glimpse import plot_glimpse_image\n",
    "\n",
    "with torch.no_grad():\n",
    "    for i, (images, labels) in enumerate(test_loader):\n",
    "        images = images.to(device)\n",
    "        labels = labels.to(device)\n",
    "        \n",
    "        batch_size = images.size(0)\n",
    "\n",
    "        # Initialize the hidden state and center\n",
    "        h0 = torch.zeros(num_layers, batch_size, hidden_size).to(images.device)\n",
    "        \n",
    "        next_actions = torch.zeros((batch_size, 3), device=images.device)\n",
    "        # next_actions[:, 2]=1 # Set the s_z to be 1\n",
    "\n",
    "        loss = 0\n",
    "        for step in range(num_steps):\n",
    "            # Print the image out\n",
    "            \n",
    "            # next_actions = torch.zeros_like(next_actions, device=next_actions.device) #TODO: remove this line please\n",
    "            # Forward pass    \n",
    "            class_pred, action_pred, h0, sensor_readings = model(images, next_actions, h0)\n",
    "            \n",
    "            if (i + 1) % 1 == 0:\n",
    "                sz = torch.ones((1), device=device)\n",
    "                img = images[0][0]\n",
    "                sc = next_actions[0][0:2] \n",
    "                # sz = (actions[:, 2] + 1)*3\n",
    "                sz = (next_actions[0][2] + 1)\n",
    "                img_name = f\"iter{i+1}_step{step}.png\"\n",
    "                plot_glimpse_image(img_name, img, model.eyes.mu, model.eyes.sigma, sc, sz, sensor_readings[0])\n",
    "                \n",
    "            next_actions = action_pred\n",
    "            \n",
    "            # print(f\"step{step}: memory update\")\n",
    "            # print(\"\", torch.cuda.memory_summary(device='cuda:0'))"
   ]
  },
  {
   "cell_type": "code",
   "execution_count": null,
   "metadata": {},
   "outputs": [],
   "source": []
  },
  {
   "cell_type": "code",
   "execution_count": null,
   "metadata": {},
   "outputs": [],
   "source": []
  },
  {
   "cell_type": "code",
   "execution_count": null,
   "metadata": {},
   "outputs": [],
   "source": []
  }
 ],
 "metadata": {
  "kernelspec": {
   "display_name": "mani",
   "language": "python",
   "name": "python3"
  },
  "language_info": {
   "codemirror_mode": {
    "name": "ipython",
    "version": 3
   },
   "file_extension": ".py",
   "mimetype": "text/x-python",
   "name": "python",
   "nbconvert_exporter": "python",
   "pygments_lexer": "ipython3",
   "version": "3.10.15"
  }
 },
 "nbformat": 4,
 "nbformat_minor": 2
}
