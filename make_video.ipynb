{
 "cells": [
  {
   "cell_type": "code",
   "execution_count": null,
   "metadata": {},
   "outputs": [
    {
     "data": {
      "application/vnd.jupyter.widget-view+json": {
       "model_id": "4519c7b3fc384ac2b5a51411c187b77f",
       "version_major": 2,
       "version_minor": 0
      },
      "text/plain": [
       "interactive(children=(Dropdown(description='Select Folder:', options=('2024-11-26_18-21-08', '2024-11-26_18-12…"
      ]
     },
     "metadata": {},
     "output_type": "display_data"
    },
    {
     "data": {
      "text/plain": [
       "<function __main__.create_animation(folder_name)>"
      ]
     },
     "execution_count": 7,
     "metadata": {},
     "output_type": "execute_result"
    }
   ],
   "source": [
    "import os\n",
    "from ipywidgets import Dropdown, interact\n",
    "import matplotlib.pyplot as plt\n",
    "from matplotlib.animation import FuncAnimation\n",
    "from PIL import Image\n",
    "from IPython.display import HTML\n",
    "\n",
    "# Base path where all video frame folders are stored\n",
    "base_path = \"./video_frames/\"\n",
    "\n",
    "# Get the list of subdirectories in the base path\n",
    "folders = [f for f in os.listdir(base_path) if os.path.isdir(os.path.join(base_path, f))]\n",
    "\n",
    "# Create a dropdown widget\n",
    "dropdown = Dropdown(\n",
    "    options=folders,\n",
    "    description=\"Select Folder:\",\n",
    "    disabled=False,\n",
    ")\n",
    "\n",
    "def sorted_numerically(file_list):\n",
    "    \"\"\"Sort filenames numerically based on numbers in the file names.\"\"\"\n",
    "    return sorted(file_list, key=lambda x: int(x.split('_')[-1].split('.')[0]))\n",
    "\n",
    "def create_animation(folder_name):\n",
    "    video_path = os.path.join(base_path, folder_name)\n",
    "    \n",
    "    # Get the list of image files sorted numerically\n",
    "    frames = sorted_numerically(\n",
    "        [f for f in os.listdir(video_path) if f.endswith(('.png', '.jpg', '.jpeg'))]\n",
    "    )\n",
    "    frames = [os.path.join(video_path, f) for f in frames]\n",
    "    \n",
    "    # Read the first frame to get the dimensions\n",
    "    sample_frame = Image.open(frames[0])\n",
    "    fig, ax = plt.subplots(figsize=(8, 8))\n",
    "    img_display = ax.imshow(sample_frame, interpolation='nearest')\n",
    "    ax.axis('off')  # Hide the axes\n",
    "    \n",
    "    # Update function for the animation\n",
    "    def update(frame_index):\n",
    "        frame = Image.open(frames[frame_index])\n",
    "        img_display.set_array(frame)\n",
    "        return [img_display]\n",
    "    \n",
    "    # Create the animation\n",
    "    anim = FuncAnimation(fig, update, frames=len(frames), interval=200, blit=True)\n",
    "    \n",
    "    plt.close(fig)  # Prevent displaying static figure\n",
    "    return HTML(anim.to_jshtml())\n",
    "\n",
    "# Interact with the dropdown\n",
    "interact(create_animation, folder_name=dropdown)\n"
   ]
  },
  {
   "cell_type": "code",
   "execution_count": 2,
   "metadata": {},
   "outputs": [
    {
     "data": {
      "application/vnd.jupyter.widget-view+json": {
       "model_id": "99c3b1c3b0e246b8b2b9e54b9f2a61ac",
       "version_major": 2,
       "version_minor": 0
      },
      "text/plain": [
       "interactive(children=(Dropdown(description='Select Folder:', options=('2024-11-26_18-21-08', '2024-11-26_18-12…"
      ]
     },
     "metadata": {},
     "output_type": "display_data"
    },
    {
     "data": {
      "text/plain": [
       "<function __main__.write_video_to_file(folder_name)>"
      ]
     },
     "execution_count": 2,
     "metadata": {},
     "output_type": "execute_result"
    }
   ],
   "source": [
    "import os\n",
    "from ipywidgets import Dropdown, interact\n",
    "from PIL import Image\n",
    "import cv2\n",
    "\n",
    "# Base path where all video frame folders are stored\n",
    "base_path = \"./video_frames/\"\n",
    "\n",
    "# Get the list of subdirectories in the base path\n",
    "folders = [f for f in os.listdir(base_path) if os.path.isdir(os.path.join(base_path, f))]\n",
    "\n",
    "# Create a dropdown widget\n",
    "dropdown = Dropdown(\n",
    "    options=folders,\n",
    "    description=\"Select Folder:\",\n",
    "    disabled=False,\n",
    ")\n",
    "\n",
    "def sorted_numerically(file_list):\n",
    "    \"\"\"Sort filenames numerically based on numbers in the file names.\"\"\"\n",
    "    return sorted(file_list, key=lambda x: int(x.split('_')[-1].split('.')[0]))\n",
    "\n",
    "def write_video_to_file(folder_name):\n",
    "    video_path = os.path.join(base_path, folder_name)\n",
    "    \n",
    "    # Get the list of image files sorted numerically\n",
    "    frames = sorted_numerically(\n",
    "        [f for f in os.listdir(video_path) if f.endswith(('.png', '.jpg', '.jpeg'))]\n",
    "    )\n",
    "    frames = [os.path.join(video_path, f) for f in frames]\n",
    "    \n",
    "    if not frames:\n",
    "        print(\"No frames found in the selected folder.\")\n",
    "        return None\n",
    "    \n",
    "    # Define video properties\n",
    "    sample_frame = Image.open(frames[0])\n",
    "    width, height = sample_frame.size\n",
    "    output_video_path = os.path.join(video_path, \"output_video.mp4\")\n",
    "    \n",
    "    # Video writer with MP4 format\n",
    "    fourcc = cv2.VideoWriter_fourcc(*'mp4v')\n",
    "    fps = 60  # Frames per second\n",
    "    video_writer = cv2.VideoWriter(output_video_path, fourcc, fps, (width, height))\n",
    "    \n",
    "    # Write each frame to the video\n",
    "    for frame_path in frames:\n",
    "        frame = cv2.imread(frame_path)\n",
    "        if frame is None:\n",
    "            print(f\"Failed to read frame: {frame_path}\")\n",
    "            continue\n",
    "        frame = cv2.cvtColor(frame, cv2.COLOR_RGB2BGR)  # Convert to BGR format\n",
    "        video_writer.write(frame)\n",
    "    \n",
    "    video_writer.release()\n",
    "    \n",
    "    # Confirm the video file has been written\n",
    "    if os.path.exists(output_video_path):\n",
    "        print(f\"Video successfully written to {output_video_path}\")\n",
    "    else:\n",
    "        print(\"Failed to create the video.\")\n",
    "\n",
    "# Interact with the dropdown\n",
    "interact(write_video_to_file, folder_name=dropdown)\n"
   ]
  },
  {
   "cell_type": "code",
   "execution_count": null,
   "metadata": {},
   "outputs": [],
   "source": []
  }
 ],
 "metadata": {
  "kernelspec": {
   "display_name": "mani",
   "language": "python",
   "name": "python3"
  },
  "language_info": {
   "codemirror_mode": {
    "name": "ipython",
    "version": 3
   },
   "file_extension": ".py",
   "mimetype": "text/x-python",
   "name": "python",
   "nbconvert_exporter": "python",
   "pygments_lexer": "ipython3",
   "version": "3.10.15"
  }
 },
 "nbformat": 4,
 "nbformat_minor": 2
}
