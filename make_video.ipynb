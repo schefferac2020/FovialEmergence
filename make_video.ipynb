{
 "cells": [
  {
   "cell_type": "code",
   "execution_count": null,
   "metadata": {},
   "outputs": [],
   "source": [
    "video_path = \"./video_frames/2024-11-26_10-33-32/\"\n"
   ]
  },
  {
   "cell_type": "code",
   "execution_count": 1,
   "metadata": {},
   "outputs": [
    {
     "data": {
      "application/vnd.jupyter.widget-view+json": {
       "model_id": "f09964e165544961a81e71dcb1962c70",
       "version_major": 2,
       "version_minor": 0
      },
      "text/plain": [
       "interactive(children=(Dropdown(description='Select Folder:', options=('2024-11-26_10-33-32',), value='2024-11-…"
      ]
     },
     "metadata": {},
     "output_type": "display_data"
    },
    {
     "data": {
      "text/plain": [
       "<function __main__.create_animation(folder_name)>"
      ]
     },
     "execution_count": 1,
     "metadata": {},
     "output_type": "execute_result"
    }
   ],
   "source": [
    "import os\n",
    "from ipywidgets import Dropdown, interact\n",
    "import matplotlib.pyplot as plt\n",
    "from matplotlib.animation import FuncAnimation\n",
    "from PIL import Image\n",
    "from IPython.display import HTML\n",
    "\n",
    "# Base path where all video frame folders are stored\n",
    "base_path = \"./video_frames/\"\n",
    "\n",
    "# Get the list of subdirectories in the base path\n",
    "folders = [f for f in os.listdir(base_path) if os.path.isdir(os.path.join(base_path, f))]\n",
    "\n",
    "# Create a dropdown widget\n",
    "dropdown = Dropdown(\n",
    "    options=folders,\n",
    "    description=\"Select Folder:\",\n",
    "    disabled=False,\n",
    ")\n",
    "\n",
    "def sorted_numerically(file_list):\n",
    "    \"\"\"Sort filenames numerically based on numbers in the file names.\"\"\"\n",
    "    return sorted(file_list, key=lambda x: int(x.split('_')[-1].split('.')[0]))\n",
    "\n",
    "def create_animation(folder_name):\n",
    "    video_path = os.path.join(base_path, folder_name)\n",
    "    \n",
    "    # Get the list of image files sorted numerically\n",
    "    frames = sorted_numerically(\n",
    "        [f for f in os.listdir(video_path) if f.endswith(('.png', '.jpg', '.jpeg'))]\n",
    "    )\n",
    "    frames = [os.path.join(video_path, f) for f in frames]\n",
    "    \n",
    "    # Read the first frame to get the dimensions\n",
    "    sample_frame = Image.open(frames[0])\n",
    "    fig, ax = plt.subplots(figsize=(8, 8))\n",
    "    img_display = ax.imshow(sample_frame, interpolation='nearest')\n",
    "    ax.axis('off')  # Hide the axes\n",
    "    \n",
    "    # Update function for the animation\n",
    "    def update(frame_index):\n",
    "        frame = Image.open(frames[frame_index])\n",
    "        img_display.set_array(frame)\n",
    "        return [img_display]\n",
    "    \n",
    "    # Create the animation\n",
    "    anim = FuncAnimation(fig, update, frames=len(frames), interval=200, blit=True)\n",
    "    \n",
    "    plt.close(fig)  # Prevent displaying static figure\n",
    "    return HTML(anim.to_jshtml())\n",
    "\n",
    "# Interact with the dropdown\n",
    "interact(create_animation, folder_name=dropdown)\n"
   ]
  },
  {
   "cell_type": "code",
   "execution_count": null,
   "metadata": {},
   "outputs": [],
   "source": []
  }
 ],
 "metadata": {
  "kernelspec": {
   "display_name": "mani",
   "language": "python",
   "name": "python3"
  },
  "language_info": {
   "codemirror_mode": {
    "name": "ipython",
    "version": 3
   },
   "file_extension": ".py",
   "mimetype": "text/x-python",
   "name": "python",
   "nbconvert_exporter": "python",
   "pygments_lexer": "ipython3",
   "version": "3.10.15"
  }
 },
 "nbformat": 4,
 "nbformat_minor": 2
}
