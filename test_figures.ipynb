{
 "cells": [
  {
   "cell_type": "markdown",
   "metadata": {},
   "source": [
    "# Figures Used in the Paper"
   ]
  },
  {
   "cell_type": "code",
   "execution_count": 1,
   "metadata": {},
   "outputs": [
    {
     "name": "stdout",
     "output_type": "stream",
     "text": [
      "CUDA is available. Using GPU: NVIDIA GeForce RTX 3080\n",
      "cuda:1\n",
      "|===========================================================================|\n",
      "|                  PyTorch CUDA memory summary, device ID 0                 |\n",
      "|---------------------------------------------------------------------------|\n",
      "|            CUDA OOMs: 0            |        cudaMalloc retries: 0         |\n",
      "|===========================================================================|\n",
      "|        Metric         | Cur Usage  | Peak Usage | Tot Alloc  | Tot Freed  |\n",
      "|---------------------------------------------------------------------------|\n",
      "| Allocated memory      |      0 B   |      0 B   |      0 B   |      0 B   |\n",
      "|       from large pool |      0 B   |      0 B   |      0 B   |      0 B   |\n",
      "|       from small pool |      0 B   |      0 B   |      0 B   |      0 B   |\n",
      "|---------------------------------------------------------------------------|\n",
      "| Active memory         |      0 B   |      0 B   |      0 B   |      0 B   |\n",
      "|       from large pool |      0 B   |      0 B   |      0 B   |      0 B   |\n",
      "|       from small pool |      0 B   |      0 B   |      0 B   |      0 B   |\n",
      "|---------------------------------------------------------------------------|\n",
      "| Requested memory      |      0 B   |      0 B   |      0 B   |      0 B   |\n",
      "|       from large pool |      0 B   |      0 B   |      0 B   |      0 B   |\n",
      "|       from small pool |      0 B   |      0 B   |      0 B   |      0 B   |\n",
      "|---------------------------------------------------------------------------|\n",
      "| GPU reserved memory   |      0 B   |      0 B   |      0 B   |      0 B   |\n",
      "|       from large pool |      0 B   |      0 B   |      0 B   |      0 B   |\n",
      "|       from small pool |      0 B   |      0 B   |      0 B   |      0 B   |\n",
      "|---------------------------------------------------------------------------|\n",
      "| Non-releasable memory |      0 B   |      0 B   |      0 B   |      0 B   |\n",
      "|       from large pool |      0 B   |      0 B   |      0 B   |      0 B   |\n",
      "|       from small pool |      0 B   |      0 B   |      0 B   |      0 B   |\n",
      "|---------------------------------------------------------------------------|\n",
      "| Allocations           |       0    |       0    |       0    |       0    |\n",
      "|       from large pool |       0    |       0    |       0    |       0    |\n",
      "|       from small pool |       0    |       0    |       0    |       0    |\n",
      "|---------------------------------------------------------------------------|\n",
      "| Active allocs         |       0    |       0    |       0    |       0    |\n",
      "|       from large pool |       0    |       0    |       0    |       0    |\n",
      "|       from small pool |       0    |       0    |       0    |       0    |\n",
      "|---------------------------------------------------------------------------|\n",
      "| GPU reserved segments |       0    |       0    |       0    |       0    |\n",
      "|       from large pool |       0    |       0    |       0    |       0    |\n",
      "|       from small pool |       0    |       0    |       0    |       0    |\n",
      "|---------------------------------------------------------------------------|\n",
      "| Non-releasable allocs |       0    |       0    |       0    |       0    |\n",
      "|       from large pool |       0    |       0    |       0    |       0    |\n",
      "|       from small pool |       0    |       0    |       0    |       0    |\n",
      "|---------------------------------------------------------------------------|\n",
      "| Oversize allocations  |       0    |       0    |       0    |       0    |\n",
      "|---------------------------------------------------------------------------|\n",
      "| Oversize GPU segments |       0    |       0    |       0    |       0    |\n",
      "|===========================================================================|\n",
      "\n"
     ]
    }
   ],
   "source": [
    "import torch\n",
    "\n",
    "# Check if CUDA is available and if PyTorch is using GPU\n",
    "if torch.cuda.is_available():\n",
    "    print(f\"CUDA is available. Using GPU: {torch.cuda.get_device_name(0)}\")\n",
    "else:\n",
    "    print(\"CUDA is not available. Using CPU.\")\n",
    "    \n",
    "device = torch.device(\"cuda:1\" if torch.cuda.is_available() else \"cpu\")\n",
    "# device = torch.device(\"cpu\")\n",
    "print(device)\n",
    "\n",
    "if torch.cuda.is_available():\n",
    "    torch.cuda.empty_cache()\n",
    "    print(torch.cuda.memory_summary(device=0, abbreviated=False))"
   ]
  },
  {
   "cell_type": "markdown",
   "metadata": {},
   "source": [
    "## Translation Only"
   ]
  },
  {
   "cell_type": "markdown",
   "metadata": {},
   "source": [
    "### Plot the Eccentricity"
   ]
  },
  {
   "cell_type": "code",
   "execution_count": 2,
   "metadata": {},
   "outputs": [
    {
     "name": "stderr",
     "output_type": "stream",
     "text": [
      "/tmp/ipykernel_67634/493661265.py:21: FutureWarning: You are using `torch.load` with `weights_only=False` (the current default value), which uses the default pickle module implicitly. It is possible to construct malicious pickle data which will execute arbitrary code during unpickling (See https://github.com/pytorch/pytorch/blob/main/SECURITY.md#untrusted-models for more details). In a future release, the default value for `weights_only` will be flipped to `True`. This limits the functions that could be executed during unpickling. Arbitrary objects will no longer be allowed to be loaded via this mode unless they are explicitly allowlisted by the user via `torch.serialization.add_safe_globals`. We recommend you start setting `weights_only=True` for any use case where you don't have full control of the loaded file. Please open an issue on GitHub for any issues related to this experimental feature.\n",
      "  checkpoint = torch.load(checkpoint_path)\n"
     ]
    },
    {
     "data": {
      "text/plain": [
       "<All keys matched successfully>"
      ]
     },
     "execution_count": 2,
     "metadata": {},
     "output_type": "execute_result"
    }
   ],
   "source": [
    "from rnn_model import MNISTRNN\n",
    "\n",
    "checkpoint_path = \"models/2024-11-26_19-52-07/checkpoint_50.pth\" # Learned Fovia\n",
    "# checkpoint_path = \"models/2024-12-03_09-10-50/checkpoint_99.pth\" # Fixed Lattice\n",
    "\n",
    "# Hyperparameters\n",
    "image_size = 100\n",
    "hidden_size = 512\n",
    "num_layers = 2\n",
    "num_classes = 10\n",
    "batch_size = 64\n",
    "learning_rate = 0.0002\n",
    "num_epochs = 100\n",
    "num_steps = 3  # RNN steps per image\n",
    "num_kernels = 12*12\n",
    "\n",
    "model = MNISTRNN(image_size, hidden_size, num_layers, num_classes, num_kernels, device)\n",
    "model.to(device)\n",
    "\n",
    "# Load the checkpoint\n",
    "checkpoint = torch.load(checkpoint_path)\n",
    "\n",
    "# Load the state dictionary into the model\n",
    "model.load_state_dict(checkpoint['model_state_dict'])"
   ]
  },
  {
   "cell_type": "code",
   "execution_count": 3,
   "metadata": {},
   "outputs": [
    {
     "name": "stdout",
     "output_type": "stream",
     "text": [
      "[4.329074  3.4331357 3.7563374 3.14966   3.4190907 3.1672618 3.427009\n",
      " 3.9542127 2.8628695 3.4757986 3.1665664 5.0650268 3.452904  2.69537\n",
      " 2.6694293 2.909093  2.2514856 2.0428329 2.733171  2.8019168 2.6268241\n",
      " 2.6252646 3.1395345 3.7735367 4.5027714 2.5908968 2.5170903 2.1865284\n",
      " 1.5823601 1.4197992 1.5428746 1.7249655 1.7111622 2.2361274 2.8505645\n",
      " 4.9327507 3.0636265 2.754496  1.9095569 1.4163004 1.5109406 1.5870322\n",
      " 1.5658091 1.3879548 1.4394773 1.7507772 2.2546508 2.484888  2.422224\n",
      " 2.4051204 2.2243109 1.3750435 1.466925  1.2787912 1.4369421 1.1936877\n",
      " 1.3801204 1.818234  2.3289015 2.584804  3.5890424 2.3601863 2.4790688\n",
      " 1.5133642 1.2334659 1.3007448 1.4045527 1.5075445 1.4632283 1.9874592\n",
      " 2.4203415 4.3931723 4.5258217 2.5190825 2.0430822 1.6129457 1.3962946\n",
      " 1.4214132 1.674537  1.6900251 1.452323  1.742398  2.4416385 2.7990294\n",
      " 2.818674  2.290952  2.461484  1.6482158 1.5822456 1.5338076 1.5861971\n",
      " 1.7282531 1.4610348 1.8846474 2.690761  3.0695271 3.627912  2.4616764\n",
      " 2.3755767 2.2116895 1.9388273 2.0009668 1.5032082 2.1058915 1.8592411\n",
      " 2.1952996 2.7156222 4.758292  2.950475  2.5520372 2.3412519 2.3271825\n",
      " 2.1866796 2.6838403 2.393002  2.2967207 2.2235944 1.9978218 2.5579107\n",
      " 2.9808154 4.18907   2.926024  2.727021  2.457686  2.1939147 2.280701\n",
      " 2.455422  2.6988888 2.3292193 2.5962017 2.703289  4.138305  4.5108943\n",
      " 3.5419095 3.989203  2.762918  2.641804  3.7631404 2.5956779 3.2430449\n",
      " 3.1534994 3.7651682 3.5618675 4.7118335]\n"
     ]
    },
    {
     "data": {
      "image/png": "[encoded data removed]",
      "text/plain": [
       "<Figure size 640x480 with 1 Axes>"
      ]
     },
     "metadata": {},
     "output_type": "display_data"
    }
   ],
   "source": [
    "import matplotlib.pyplot as plt\n",
    "mus = model.eyes.mu\n",
    "sigmas = model.eyes.sigma\n",
    "distances = torch.norm(mus, dim=1)\n",
    "\n",
    "distances = distances.detach().cpu().numpy()\n",
    "sigmas = sigmas.detach().cpu().numpy() *10\n",
    "print(sigmas)\n",
    "sigmas = sigmas / 50\n",
    "\n",
    "# Plot distances (x-axis) vs sigmas (y-axis)\n",
    "plt.scatter(distances, sigmas, alpha=0.7)\n",
    "plt.xlabel('Distance from Center (Eccentricity)')\n",
    "plt.ylabel('Kernel Standard Deviation')\n",
    "# plt.title('Distance from Center (Eccentricity)')\n",
    "plt.grid(True)\n",
    "plt.show()"
   ]
  },
  {
   "cell_type": "markdown",
   "metadata": {},
   "source": [
    "### Get The Test Accuracy, Precision, Recall, Model Parameters Size,\n"
   ]
  },
  {
   "cell_type": "code",
   "execution_count": 4,
   "metadata": {},
   "outputs": [
    {
     "name": "stderr",
     "output_type": "stream",
     "text": [
      "/tmp/ipykernel_64454/2904637968.py:24: FutureWarning: You are using `torch.load` with `weights_only=False` (the current default value), which uses the default pickle module implicitly. It is possible to construct malicious pickle data which will execute arbitrary code during unpickling (See https://github.com/pytorch/pytorch/blob/main/SECURITY.md#untrusted-models for more details). In a future release, the default value for `weights_only` will be flipped to `True`. This limits the functions that could be executed during unpickling. Arbitrary objects will no longer be allowed to be loaded via this mode unless they are explicitly allowlisted by the user via `torch.serialization.add_safe_globals`. We recommend you start setting `weights_only=True` for any use case where you don't have full control of the loaded file. Please open an issue on GitHub for any issues related to this experimental feature.\n",
      "  checkpoint = torch.load(checkpoint_path)\n"
     ]
    },
    {
     "data": {
      "text/plain": [
       "<All keys matched successfully>"
      ]
     },
     "execution_count": 4,
     "metadata": {},
     "output_type": "execute_result"
    }
   ],
   "source": [
    "import torch\n",
    "from rnn_model import MNISTRNN\n",
    "\n",
    "checkpoint_path = \"models/2024-11-26_19-52-07/checkpoint_50.pth\" # Translation Model\n",
    "# checkpoint_path = \"models/2024-12-03_09-10-50/checkpoint_99.pth\" # Fixed Latticce\n",
    "\n",
    "\n",
    "\n",
    "# Hyperparameters\n",
    "image_size = 100\n",
    "hidden_size = 512\n",
    "num_layers = 2\n",
    "num_classes = 10\n",
    "batch_size = 64\n",
    "learning_rate = 0.0002\n",
    "num_epochs = 100\n",
    "num_steps = 3  # RNN steps per image\n",
    "num_kernels = 12*12\n",
    "\n",
    "model = MNISTRNN(image_size, hidden_size, num_layers, num_classes, num_kernels, device)\n",
    "model.to(device)\n",
    "\n",
    "# Load the checkpoint\n",
    "checkpoint = torch.load(checkpoint_path)\n",
    "\n",
    "# Load the state dictionary into the model\n",
    "model.load_state_dict(checkpoint['model_state_dict'])"
   ]
  },
  {
   "cell_type": "code",
   "execution_count": 5,
   "metadata": {},
   "outputs": [
    {
     "name": "stdout",
     "output_type": "stream",
     "text": [
      "Accuracy of the model on the test images: 92.20%\n",
      "Precision: 0.92\n",
      "Recall: 0.92\n",
      "F1 Score: 0.92\n",
      "Number of trainable parameters: 868,796\n"
     ]
    }
   ],
   "source": [
    "from sklearn.metrics import precision_score, recall_score, f1_score\n",
    "from dataloaders import get_dataloaders\n",
    "import torch\n",
    "# Assuming get_dataloaders() provides train and test loaders\n",
    "train_loader, test_loader = get_dataloaders()\n",
    "\n",
    "model.eval()\n",
    "all_labels = []\n",
    "all_predictions = []\n",
    "\n",
    "with torch.no_grad():\n",
    "    correct = 0\n",
    "    total = 0\n",
    "    \n",
    "    for images, labels in test_loader:\n",
    "        images = images.to(device)\n",
    "        labels = labels.to(device)\n",
    "        \n",
    "        batch_size = images.size(0)\n",
    "        h0 = torch.zeros(num_layers, batch_size, hidden_size).to(images.device)\n",
    "        next_actions = torch.zeros((batch_size, 2), device=images.device)\n",
    "        \n",
    "        for step in range(num_steps):\n",
    "            class_pred, action_pred, h0, sensor_readings = model(images, next_actions, h0)\n",
    "            next_actions = action_pred\n",
    "\n",
    "        _, predicted = torch.max(class_pred.data, 1)\n",
    "        \n",
    "        # Append for metric calculations\n",
    "        all_labels.extend(labels.cpu().numpy())\n",
    "        all_predictions.extend(predicted.cpu().numpy())\n",
    "        \n",
    "        # Accuracy calculation\n",
    "        total += labels.size(0)\n",
    "        correct += (predicted == labels).sum().item()\n",
    "\n",
    "# Calculate accuracy\n",
    "accuracy = 100 * correct / total\n",
    "print(f'Accuracy of the model on the test images: {accuracy:.2f}%')\n",
    "\n",
    "# Calculate precision, recall, and F1-score\n",
    "precision = precision_score(all_labels, all_predictions, average='weighted')\n",
    "recall = recall_score(all_labels, all_predictions, average='weighted')\n",
    "f1 = f1_score(all_labels, all_predictions, average='weighted')\n",
    "\n",
    "print(f'Precision: {precision:.2f}')\n",
    "print(f'Recall: {recall:.2f}')\n",
    "print(f'F1 Score: {f1:.2f}')\n",
    "\n",
    "def count_parameters(model):\n",
    "    return sum(p.numel() for p in model.parameters() if p.requires_grad)\n",
    "\n",
    "print(f\"Number of trainable parameters: {count_parameters(model):,}\")\n"
   ]
  },
  {
   "cell_type": "code",
   "execution_count": null,
   "metadata": {},
   "outputs": [],
   "source": [
    "def count_parameters(model):\n",
    "    return sum(p.numel() for p in model.parameters() if p.requires_grad)\n",
    "\n",
    "print(f\"Number of trainable parameters: {count_parameters(model):,}\")"
   ]
  },
  {
   "cell_type": "markdown",
   "metadata": {},
   "source": [
    "### Do a few rollouts"
   ]
  },
  {
   "cell_type": "code",
   "execution_count": 6,
   "metadata": {},
   "outputs": [],
   "source": [
    "from glimpse import plot_glimpse_image\n",
    "train_loader, test_loader = get_dataloaders()\n",
    "\n",
    "with torch.no_grad():\n",
    "    for i, (images, labels) in enumerate(test_loader):\n",
    "        images = images.to(device)\n",
    "        labels = labels.to(device)\n",
    "        \n",
    "        batch_size = images.size(0)\n",
    "\n",
    "        # Initialize the hidden state and center\n",
    "        h0 = torch.zeros(num_layers, batch_size, hidden_size).to(images.device)\n",
    "        \n",
    "        next_actions = torch.zeros((batch_size, 2), device=images.device)\n",
    "\n",
    "        loss = 0\n",
    "        for step in range(num_steps):\n",
    "            # Print the image out\n",
    "            \n",
    "            # next_actions = torch.zeros_like(next_actions, device=next_actions.device) #TODO: remove this line please\n",
    "            # Forward pass    \n",
    "            class_pred, action_pred, h0, sensor_readings = model(images, next_actions, h0)\n",
    "            \n",
    "            if (i + 1) % 1 == 0:\n",
    "                sz = torch.ones((1), device=device)\n",
    "                img = images[0][0]\n",
    "                sc = next_actions[0][0:2] \n",
    "                # sz = (actions[:, 2] + 1)*3\n",
    "                sz = 1\n",
    "                img_name = f\"iter{i+1}_step{step}.png\"\n",
    "                plot_glimpse_image(img_name, img, model.eyes.mu, model.eyes.sigma, sc, sz, sensor_readings[0])\n",
    "                \n",
    "            next_actions = action_pred"
   ]
  },
  {
   "cell_type": "code",
   "execution_count": null,
   "metadata": {},
   "outputs": [],
   "source": []
  }
 ],
 "metadata": {
  "kernelspec": {
   "display_name": "mani",
   "language": "python",
   "name": "python3"
  },
  "language_info": {
   "codemirror_mode": {
    "name": "ipython",
    "version": 3
   },
   "file_extension": ".py",
   "mimetype": "text/x-python",
   "name": "python",
   "nbconvert_exporter": "python",
   "pygments_lexer": "ipython3",
   "version": "3.10.15"
  }
 },
 "nbformat": 4,
 "nbformat_minor": 2
}
